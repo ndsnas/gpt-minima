{
 "cells": [
  {
   "cell_type": "code",
   "execution_count": 12,
   "metadata": {},
   "outputs": [],
   "source": [
    "import torch\n",
    "import torch.nn as nn\n",
    "from torch.nn import functional as F"
   ]
  },
  {
   "cell_type": "code",
   "execution_count": 2,
   "metadata": {},
   "outputs": [],
   "source": [
    "with open('input.txt', 'r', encoding='utf-8') as f:\n",
    "    text = f.read()"
   ]
  },
  {
   "cell_type": "code",
   "execution_count": 3,
   "metadata": {},
   "outputs": [
    {
     "name": "stdout",
     "output_type": "stream",
     "text": [
      "length of dataset in characters:  1115394\n"
     ]
    }
   ],
   "source": [
    "print(\"length of dataset in characters: \", len(text))"
   ]
  },
  {
   "cell_type": "code",
   "execution_count": 4,
   "metadata": {},
   "outputs": [
    {
     "name": "stdout",
     "output_type": "stream",
     "text": [
      "First Citizen:\n",
      "Before we proceed any further, hear me speak.\n",
      "\n",
      "All:\n",
      "Speak, speak.\n",
      "\n",
      "First Citizen:\n",
      "You are all resolved rather to die than to famish?\n",
      "\n",
      "All:\n",
      "Resolved. resolved.\n",
      "\n",
      "First Citizen:\n",
      "First, you know Caius Marcius is chief enemy to the people.\n",
      "\n",
      "All:\n",
      "We know't, we know't.\n",
      "\n",
      "First Citizen:\n",
      "Let us kill him, and we'll have corn at our own price.\n",
      "Is't a verdict?\n",
      "\n",
      "All:\n",
      "No more talking on't; let it be done: away, away!\n",
      "\n",
      "Second Citizen:\n",
      "One word, good citizens.\n",
      "\n",
      "First Citizen:\n",
      "We are accounted poor citizens, the patricians good.\n",
      "What authority surfeits on would relieve us: if they\n",
      "would yield us but the superfluity, while it were\n",
      "wholesome, we might guess they relieved us humanely;\n",
      "but they think we are too dear: the leanness that\n",
      "afflicts us, the object of our misery, is as an\n",
      "inventory to particularise their abundance; our\n",
      "sufferance is a gain to them Let us revenge this with\n",
      "our pikes, ere we become rakes: for the gods know I\n",
      "speak this in hunger for bread, not in thirst for revenge.\n",
      "\n",
      "\n"
     ]
    }
   ],
   "source": [
    "print(text[:1000])"
   ]
  },
  {
   "cell_type": "code",
   "execution_count": 5,
   "metadata": {},
   "outputs": [
    {
     "name": "stdout",
     "output_type": "stream",
     "text": [
      "\n",
      " !$&',-.3:;?ABCDEFGHIJKLMNOPQRSTUVWXYZabcdefghijklmnopqrstuvwxyz\n",
      "vocab size:  65\n"
     ]
    }
   ],
   "source": [
    "chars = sorted(list(set(text)))\n",
    "vocab_size = len(chars)\n",
    "print(''.join(chars))\n",
    "print(\"vocab size: \", vocab_size)"
   ]
  },
  {
   "cell_type": "code",
   "execution_count": 6,
   "metadata": {},
   "outputs": [],
   "source": [
    "stoi = {char: i for i, char in enumerate(chars)}\n",
    "itos = {i: char for i, char in enumerate(chars)}\n",
    "encode = lambda s: [stoi[c] for c in s] # takes a string, returns list of integers\n",
    "decode = lambda l: ''.join([itos[i] for i in l]) # takes list of integers, returns a string"
   ]
  },
  {
   "cell_type": "code",
   "execution_count": 7,
   "metadata": {},
   "outputs": [
    {
     "name": "stdout",
     "output_type": "stream",
     "text": [
      "[47, 1, 39, 51, 1, 52, 39, 60, 42, 43, 43, 54]\n",
      "i am navdeep\n"
     ]
    }
   ],
   "source": [
    "print(encode(\"i am navdeep\"))\n",
    "print(decode([47, 1, 39, 51, 1, 52, 39, 60, 42, 43, 43, 54]))\n",
    "assert decode(encode(\"i am navdeep\")) == \"i am navdeep\""
   ]
  },
  {
   "cell_type": "code",
   "execution_count": 8,
   "metadata": {},
   "outputs": [
    {
     "name": "stdout",
     "output_type": "stream",
     "text": [
      "torch.Size([1115394])\n"
     ]
    }
   ],
   "source": [
    "data = torch.tensor(encode(text), dtype=torch.long)\n",
    "print(data.shape)"
   ]
  },
  {
   "cell_type": "code",
   "execution_count": 9,
   "metadata": {},
   "outputs": [],
   "source": [
    "# split dataset\n",
    "n = int(0.9*len(data))\n",
    "train_data = data[:n]\n",
    "val_data = data[n:]"
   ]
  },
  {
   "cell_type": "code",
   "execution_count": 10,
   "metadata": {},
   "outputs": [],
   "source": [
    "torch.manual_seed(1337)\n",
    "\n",
    "batch_size = 4 # independent sequences that will be processed in parallel\n",
    "block_size = 8 # maximum context length\n",
    "\n",
    "def get_batch(split):\n",
    "    \"\"\"\n",
    "    returns a batch (x, y) of batch_size = 4 arrays\n",
    "    arrays are of size block_size = 8\n",
    "    \"\"\"\n",
    "    data = train_data if split == \"train\" else val_data\n",
    "    ix = torch.randint(len(data) - block_size, (batch_size,)) # get batch_size=4 random numbers from len(data) - block_size. minus block_size is to prevent overflow\n",
    "    x = torch.stack([data[i:i+block_size] for i in ix]) # stack batch_size=4 arrays cotaining block_size=8 elements from data starting from index in ix\n",
    "    y = torch.stack([data[i+1:i+1+block_size] for i in ix]) # stack batch_size=4 arrays cotaining block_size=8 elements from data starting from index+1 in ix\n",
    "\n",
    "    return x, y"
   ]
  },
  {
   "cell_type": "code",
   "execution_count": 11,
   "metadata": {},
   "outputs": [
    {
     "name": "stdout",
     "output_type": "stream",
     "text": [
      "tensor([[24, 43, 58,  5, 57,  1, 46, 43],\n",
      "        [44, 53, 56,  1, 58, 46, 39, 58],\n",
      "        [52, 58,  1, 58, 46, 39, 58,  1],\n",
      "        [25, 17, 27, 10,  0, 21,  1, 54]])\n",
      "tensor([[43, 58,  5, 57,  1, 46, 43, 39],\n",
      "        [53, 56,  1, 58, 46, 39, 58,  1],\n",
      "        [58,  1, 58, 46, 39, 58,  1, 46],\n",
      "        [17, 27, 10,  0, 21,  1, 54, 39]])\n",
      "[24] --> 43\n",
      "[24, 43] --> 58\n",
      "[24, 43, 58] --> 5\n",
      "[24, 43, 58, 5] --> 57\n",
      "[24, 43, 58, 5, 57] --> 1\n",
      "[24, 43, 58, 5, 57, 1] --> 46\n",
      "[24, 43, 58, 5, 57, 1, 46] --> 43\n",
      "[24, 43, 58, 5, 57, 1, 46, 43] --> 39\n",
      "[44] --> 53\n",
      "[44, 53] --> 56\n",
      "[44, 53, 56] --> 1\n",
      "[44, 53, 56, 1] --> 58\n",
      "[44, 53, 56, 1, 58] --> 46\n",
      "[44, 53, 56, 1, 58, 46] --> 39\n",
      "[44, 53, 56, 1, 58, 46, 39] --> 58\n",
      "[44, 53, 56, 1, 58, 46, 39, 58] --> 1\n",
      "[52] --> 58\n",
      "[52, 58] --> 1\n",
      "[52, 58, 1] --> 58\n",
      "[52, 58, 1, 58] --> 46\n",
      "[52, 58, 1, 58, 46] --> 39\n",
      "[52, 58, 1, 58, 46, 39] --> 58\n",
      "[52, 58, 1, 58, 46, 39, 58] --> 1\n",
      "[52, 58, 1, 58, 46, 39, 58, 1] --> 46\n",
      "[25] --> 17\n",
      "[25, 17] --> 27\n",
      "[25, 17, 27] --> 10\n",
      "[25, 17, 27, 10] --> 0\n",
      "[25, 17, 27, 10, 0] --> 21\n",
      "[25, 17, 27, 10, 0, 21] --> 1\n",
      "[25, 17, 27, 10, 0, 21, 1] --> 54\n",
      "[25, 17, 27, 10, 0, 21, 1, 54] --> 39\n"
     ]
    }
   ],
   "source": [
    "xb, yb = get_batch(\"train\")\n",
    "print(xb)\n",
    "print(yb)\n",
    "\n",
    "for b in range(batch_size):\n",
    "    for t in range(block_size):\n",
    "        context = xb[b][:t+1]\n",
    "        target = yb[b][t]\n",
    "        print(f'{context.tolist()} --> {target}')"
   ]
  },
  {
   "cell_type": "code",
   "execution_count": 71,
   "metadata": {},
   "outputs": [],
   "source": [
    "class BigramLangModel(nn.Module):\n",
    "\n",
    "    def __init__(self, vocab_size):\n",
    "        super().__init__()\n",
    "\n",
    "        self.token_embedding_table = nn.Embedding(vocab_size, vocab_size)\n",
    "\n",
    "    def forward(self, idx, targets=None):\n",
    "        # B, T, C - Batch, Time (one char in a block), Channel (embedding)\n",
    "        # idx and targets are both (B, T) size inputs\n",
    "\n",
    "        # logits are predictions/scores of next character and here it is simply the embedding of input\n",
    "        logits = self.token_embedding_table(idx) # (B, T, C)\n",
    "\n",
    "        if targets is None:\n",
    "            loss = None\n",
    "\n",
    "        else:\n",
    "            # logits and targets need to be reshaped for cross entropy\n",
    "            B, T, C = logits.shape\n",
    "            logits = logits.view(B*T, C)\n",
    "            targets = targets.view(B*T)\n",
    "            loss = F.cross_entropy(logits, targets)\n",
    "        return logits, loss\n",
    "    \n",
    "    def generate(self, idx, max_new_tokens):\n",
    "        # max_new_tokens - number of characters to generate\n",
    "        # idx - (B, T)\n",
    "        for _ in range(max_new_tokens):\n",
    "            # this will return the logits for all the tokens in idx\n",
    "            logits, loss = self.forward(idx) # (B, T, C)\n",
    "            # take out the logits for only the last token because we'll generate the next char only on the basis of last char\n",
    "            logits = logits[:, -1, :] # (B, C)\n",
    "            # get the probs from logits\n",
    "            probs = F.softmax(logits, dim=-1) # (B, C)\n",
    "            # sample from the prob distribution\n",
    "            idx_next = torch.multinomial(probs, num_samples=1) # (B, 1)\n",
    "            # concatenate for output\n",
    "            idx = torch.cat((idx, idx_next), dim=1) # (B, T+1)\n",
    "            # next character will be found out on the basis of last character till the loop runs\n",
    "        return idx"
   ]
  },
  {
   "cell_type": "code",
   "execution_count": 72,
   "metadata": {},
   "outputs": [
    {
     "name": "stdout",
     "output_type": "stream",
     "text": [
      "torch.Size([4, 8]) torch.Size([32, 65]) tensor(4.8786, grad_fn=<NllLossBackward0>)\n",
      "\n",
      "SKIcLT;AcELMoTbvZv C?nq-QE33:CJqkOKH-q;:la!oiywkHjgChzbQ?u!3bLIgwevmyFJGUGp\n",
      "wnYWmnxKWWev-tDqXErVKLgJ\n"
     ]
    }
   ],
   "source": [
    "torch.manual_seed(1337)\n",
    "\n",
    "m = BigramLangModel(vocab_size)\n",
    "logits, loss = m(xb, yb)\n",
    "print(xb.shape, logits.shape, loss)\n",
    "\n",
    "# generate\n",
    "idx=torch.zeros((1, 1), dtype=torch.long) # this is acting as the starting character -> tensor([[0]])\n",
    "print(decode(m.generate(idx, max_new_tokens=100)[0].tolist()))"
   ]
  },
  {
   "cell_type": "markdown",
   "metadata": {},
   "source": [
    "### token_embedding_table\n",
    "- The token_embedding_table is of size (65, 65). For each char in vocab, the table will return an array of 65 integers.\n",
    "- These integers will work as the probability of being the next character. This is why the 2nd dimension of the table is of size 65.\n",
    "\n",
    "### cross_entropy\n",
    "- Cross Entropy expects the logits of 2 dimensions and target to be of 1 dimension. That's why, the logits and targets are being reshaped.\n",
    "- Logits are converted into (BxT, C) and Targets are converted into (BxT).\n",
    "- In the example output above dimensions of logits is (32, 65) and of targets is (32).\n",
    "- Cross entropy will take the first row of logits (logits[0, :]) which contains 65 integers and take the first integer from target   (target[0]) and check the probability at \"targetth\" element, i.e. logits[0, target[0]]"
   ]
  }
 ],
 "metadata": {
  "kernelspec": {
   "display_name": "zoro",
   "language": "python",
   "name": "python3"
  },
  "language_info": {
   "codemirror_mode": {
    "name": "ipython",
    "version": 3
   },
   "file_extension": ".py",
   "mimetype": "text/x-python",
   "name": "python",
   "nbconvert_exporter": "python",
   "pygments_lexer": "ipython3",
   "version": "3.10.13"
  }
 },
 "nbformat": 4,
 "nbformat_minor": 2
}
