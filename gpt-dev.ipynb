{
 "cells": [
  {
   "cell_type": "code",
   "execution_count": 1,
   "metadata": {},
   "outputs": [],
   "source": [
    "import torch\n",
    "import torch.nn as nn\n",
    "from torch.nn import functional as F"
   ]
  },
  {
   "cell_type": "code",
   "execution_count": 2,
   "metadata": {},
   "outputs": [],
   "source": [
    "with open('input.txt', 'r', encoding='utf-8') as f:\n",
    "    text = f.read()"
   ]
  },
  {
   "cell_type": "code",
   "execution_count": 3,
   "metadata": {},
   "outputs": [
    {
     "name": "stdout",
     "output_type": "stream",
     "text": [
      "length of dataset in characters:  1115394\n"
     ]
    }
   ],
   "source": [
    "print(\"length of dataset in characters: \", len(text))"
   ]
  },
  {
   "cell_type": "code",
   "execution_count": 4,
   "metadata": {},
   "outputs": [
    {
     "name": "stdout",
     "output_type": "stream",
     "text": [
      "First Citizen:\n",
      "Before we proceed any further, hear me speak.\n",
      "\n",
      "All:\n",
      "Speak, speak.\n",
      "\n",
      "First Citizen:\n",
      "You are all resolved rather to die than to famish?\n",
      "\n",
      "All:\n",
      "Resolved. resolved.\n",
      "\n",
      "First Citizen:\n",
      "First, you know Caius Marcius is chief enemy to the people.\n",
      "\n",
      "All:\n",
      "We know't, we know't.\n",
      "\n",
      "First Citizen:\n",
      "Let us kill him, and we'll have corn at our own price.\n",
      "Is't a verdict?\n",
      "\n",
      "All:\n",
      "No more talking on't; let it be done: away, away!\n",
      "\n",
      "Second Citizen:\n",
      "One word, good citizens.\n",
      "\n",
      "First Citizen:\n",
      "We are accounted poor citizens, the patricians good.\n",
      "What authority surfeits on would relieve us: if they\n",
      "would yield us but the superfluity, while it were\n",
      "wholesome, we might guess they relieved us humanely;\n",
      "but they think we are too dear: the leanness that\n",
      "afflicts us, the object of our misery, is as an\n",
      "inventory to particularise their abundance; our\n",
      "sufferance is a gain to them Let us revenge this with\n",
      "our pikes, ere we become rakes: for the gods know I\n",
      "speak this in hunger for bread, not in thirst for revenge.\n",
      "\n",
      "\n"
     ]
    }
   ],
   "source": [
    "print(text[:1000])"
   ]
  },
  {
   "cell_type": "code",
   "execution_count": 5,
   "metadata": {},
   "outputs": [
    {
     "name": "stdout",
     "output_type": "stream",
     "text": [
      "\n",
      " !$&',-.3:;?ABCDEFGHIJKLMNOPQRSTUVWXYZabcdefghijklmnopqrstuvwxyz\n",
      "vocab size:  65\n"
     ]
    }
   ],
   "source": [
    "chars = sorted(list(set(text)))\n",
    "vocab_size = len(chars)\n",
    "print(''.join(chars))\n",
    "print(\"vocab size: \", vocab_size)"
   ]
  },
  {
   "cell_type": "code",
   "execution_count": 6,
   "metadata": {},
   "outputs": [],
   "source": [
    "stoi = {char: i for i, char in enumerate(chars)}\n",
    "itos = {i: char for i, char in enumerate(chars)}\n",
    "encode = lambda s: [stoi[c] for c in s] # takes a string, returns list of integers\n",
    "decode = lambda l: ''.join([itos[i] for i in l]) # takes list of integers, returns a string"
   ]
  },
  {
   "cell_type": "code",
   "execution_count": 7,
   "metadata": {},
   "outputs": [
    {
     "name": "stdout",
     "output_type": "stream",
     "text": [
      "[47, 1, 39, 51, 1, 52, 39, 60, 42, 43, 43, 54]\n",
      "i am navdeep\n"
     ]
    }
   ],
   "source": [
    "print(encode(\"i am navdeep\"))\n",
    "print(decode([47, 1, 39, 51, 1, 52, 39, 60, 42, 43, 43, 54]))\n",
    "assert decode(encode(\"i am navdeep\")) == \"i am navdeep\""
   ]
  },
  {
   "cell_type": "code",
   "execution_count": 8,
   "metadata": {},
   "outputs": [
    {
     "name": "stdout",
     "output_type": "stream",
     "text": [
      "torch.Size([1115394])\n"
     ]
    }
   ],
   "source": [
    "data = torch.tensor(encode(text), dtype=torch.long)\n",
    "print(data.shape)"
   ]
  },
  {
   "cell_type": "code",
   "execution_count": 9,
   "metadata": {},
   "outputs": [],
   "source": [
    "# split dataset\n",
    "n = int(0.9*len(data))\n",
    "train_data = data[:n]\n",
    "val_data = data[n:]"
   ]
  },
  {
   "cell_type": "code",
   "execution_count": 10,
   "metadata": {},
   "outputs": [],
   "source": [
    "torch.manual_seed(1337)\n",
    "\n",
    "batch_size = 4 # independent sequences that will be processed in parallel\n",
    "block_size = 8 # maximum context length\n",
    "\n",
    "def get_batch(split):\n",
    "    \"\"\"\n",
    "    returns a batch (x, y) of batch_size = 4 arrays\n",
    "    arrays are of size block_size = 8\n",
    "    \"\"\"\n",
    "    data = train_data if split == \"train\" else val_data\n",
    "    ix = torch.randint(len(data) - block_size, (batch_size,)) # get batch_size=4 random numbers from len(data) - block_size. minus block_size is to prevent overflow\n",
    "    x = torch.stack([data[i:i+block_size] for i in ix]) # stack batch_size=4 arrays cotaining block_size=8 elements from data starting from index in ix\n",
    "    y = torch.stack([data[i+1:i+1+block_size] for i in ix]) # stack batch_size=4 arrays cotaining block_size=8 elements from data starting from index+1 in ix\n",
    "\n",
    "    return x, y"
   ]
  },
  {
   "cell_type": "code",
   "execution_count": 11,
   "metadata": {},
   "outputs": [
    {
     "name": "stdout",
     "output_type": "stream",
     "text": [
      "tensor([[24, 43, 58,  5, 57,  1, 46, 43],\n",
      "        [44, 53, 56,  1, 58, 46, 39, 58],\n",
      "        [52, 58,  1, 58, 46, 39, 58,  1],\n",
      "        [25, 17, 27, 10,  0, 21,  1, 54]])\n",
      "tensor([[43, 58,  5, 57,  1, 46, 43, 39],\n",
      "        [53, 56,  1, 58, 46, 39, 58,  1],\n",
      "        [58,  1, 58, 46, 39, 58,  1, 46],\n",
      "        [17, 27, 10,  0, 21,  1, 54, 39]])\n",
      "[24] --> 43\n",
      "[24, 43] --> 58\n",
      "[24, 43, 58] --> 5\n",
      "[24, 43, 58, 5] --> 57\n",
      "[24, 43, 58, 5, 57] --> 1\n",
      "[24, 43, 58, 5, 57, 1] --> 46\n",
      "[24, 43, 58, 5, 57, 1, 46] --> 43\n",
      "[24, 43, 58, 5, 57, 1, 46, 43] --> 39\n",
      "[44] --> 53\n",
      "[44, 53] --> 56\n",
      "[44, 53, 56] --> 1\n",
      "[44, 53, 56, 1] --> 58\n",
      "[44, 53, 56, 1, 58] --> 46\n",
      "[44, 53, 56, 1, 58, 46] --> 39\n",
      "[44, 53, 56, 1, 58, 46, 39] --> 58\n",
      "[44, 53, 56, 1, 58, 46, 39, 58] --> 1\n",
      "[52] --> 58\n",
      "[52, 58] --> 1\n",
      "[52, 58, 1] --> 58\n",
      "[52, 58, 1, 58] --> 46\n",
      "[52, 58, 1, 58, 46] --> 39\n",
      "[52, 58, 1, 58, 46, 39] --> 58\n",
      "[52, 58, 1, 58, 46, 39, 58] --> 1\n",
      "[52, 58, 1, 58, 46, 39, 58, 1] --> 46\n",
      "[25] --> 17\n",
      "[25, 17] --> 27\n",
      "[25, 17, 27] --> 10\n",
      "[25, 17, 27, 10] --> 0\n",
      "[25, 17, 27, 10, 0] --> 21\n",
      "[25, 17, 27, 10, 0, 21] --> 1\n",
      "[25, 17, 27, 10, 0, 21, 1] --> 54\n",
      "[25, 17, 27, 10, 0, 21, 1, 54] --> 39\n"
     ]
    }
   ],
   "source": [
    "xb, yb = get_batch(\"train\")\n",
    "print(xb)\n",
    "print(yb)\n",
    "\n",
    "for b in range(batch_size):\n",
    "    for t in range(block_size):\n",
    "        context = xb[b][:t+1]\n",
    "        target = yb[b][t]\n",
    "        print(f'{context.tolist()} --> {target}')"
   ]
  },
  {
   "cell_type": "code",
   "execution_count": 12,
   "metadata": {},
   "outputs": [],
   "source": [
    "class BigramLangModel(nn.Module):\n",
    "\n",
    "    def __init__(self, vocab_size):\n",
    "        super().__init__()\n",
    "\n",
    "        self.token_embedding_table = nn.Embedding(vocab_size, vocab_size)\n",
    "\n",
    "    def forward(self, idx, targets=None):\n",
    "        # B, T, C - Batch, Time (one char in a block), Channel (embedding)\n",
    "        # idx and targets are both (B, T) size inputs\n",
    "\n",
    "        # logits are predictions/scores of next character and here it is simply the embedding of input\n",
    "        logits = self.token_embedding_table(idx) # (B, T, C)\n",
    "\n",
    "        if targets is None:\n",
    "            loss = None\n",
    "\n",
    "        else:\n",
    "            # logits and targets need to be reshaped for cross entropy\n",
    "            B, T, C = logits.shape\n",
    "            logits = logits.view(B*T, C)\n",
    "            targets = targets.view(B*T)\n",
    "            loss = F.cross_entropy(logits, targets)\n",
    "        return logits, loss\n",
    "    \n",
    "    def generate(self, idx, max_new_tokens):\n",
    "        # max_new_tokens - number of characters to generate\n",
    "        # idx - (B, T)\n",
    "        for _ in range(max_new_tokens):\n",
    "            # this will return the logits for all the tokens in idx\n",
    "            logits, loss = self.forward(idx) # (B, T, C)\n",
    "            # take out the logits for only the last token because we'll generate the next char only on the basis of last char\n",
    "            logits = logits[:, -1, :] # (B, C)\n",
    "            # get the probs from logits\n",
    "            probs = F.softmax(logits, dim=-1) # (B, C)\n",
    "            # sample from the prob distribution\n",
    "            idx_next = torch.multinomial(probs, num_samples=1) # (B, 1)\n",
    "            # concatenate for output\n",
    "            idx = torch.cat((idx, idx_next), dim=1) # (B, T+1)\n",
    "            # next character will be found out on the basis of last character till the loop runs\n",
    "        return idx"
   ]
  },
  {
   "cell_type": "code",
   "execution_count": 13,
   "metadata": {},
   "outputs": [
    {
     "name": "stdout",
     "output_type": "stream",
     "text": [
      "torch.Size([4, 8]) torch.Size([32, 65]) tensor(4.8786, grad_fn=<NllLossBackward0>)\n",
      "\n",
      "SKIcLT;AcELMoTbvZv C?nq-QE33:CJqkOKH-q;:la!oiywkHjgChzbQ?u!3bLIgwevmyFJGUGp\n",
      "wnYWmnxKWWev-tDqXErVKLgJ\n"
     ]
    }
   ],
   "source": [
    "torch.manual_seed(1337)\n",
    "\n",
    "m = BigramLangModel(vocab_size)\n",
    "logits, loss = m(xb, yb)\n",
    "print(xb.shape, logits.shape, loss)\n",
    "\n",
    "# generate\n",
    "idx=torch.zeros((1, 1), dtype=torch.long) # this is acting as the starting character -> tensor([[0]])\n",
    "print(decode(m.generate(idx, max_new_tokens=100)[0].tolist()))"
   ]
  },
  {
   "cell_type": "markdown",
   "metadata": {},
   "source": [
    "### token_embedding_table\n",
    "- The token_embedding_table is of size (65, 65). For each char in vocab, the table will return an array of 65 integers.\n",
    "- These integers will work as the probability of being the next character. This is why the 2nd dimension of the table is of size 65.\n",
    "\n",
    "### cross_entropy\n",
    "- Cross Entropy expects the logits of 2 dimensions and target to be of 1 dimension. That's why, the logits and targets are being reshaped.\n",
    "- Logits are converted into (BxT, C) and Targets are converted into (BxT).\n",
    "- In the example output above dimensions of logits is (32, 65) and of targets is (32).\n",
    "- Cross entropy will take the first row of logits (logits[0, :]) which contains 65 integers and take the first integer from target   (target[0]) and check the probability at \"targetth\" element, i.e. logits[0, target[0]]"
   ]
  },
  {
   "cell_type": "code",
   "execution_count": 14,
   "metadata": {},
   "outputs": [],
   "source": [
    "optimizer = torch.optim.AdamW(m.parameters(), lr=1e-3)"
   ]
  },
  {
   "cell_type": "code",
   "execution_count": 15,
   "metadata": {},
   "outputs": [
    {
     "name": "stdout",
     "output_type": "stream",
     "text": [
      "3.704137086868286\n"
     ]
    }
   ],
   "source": [
    "batch_size = 32\n",
    "for steps in range(1000):\n",
    "    xb, yb = get_batch('train')\n",
    "    logits, loss = m(xb, yb)\n",
    "    optimizer.zero_grad(set_to_none=True)\n",
    "    loss.backward()\n",
    "    optimizer.step()\n",
    "\n",
    "print(loss.item())"
   ]
  },
  {
   "cell_type": "code",
   "execution_count": 16,
   "metadata": {},
   "outputs": [
    {
     "name": "stdout",
     "output_type": "stream",
     "text": [
      "\n",
      "Wh;;Sq.f ustNzknc\n",
      "kwgOj$dhPWr,SV?hsusiKpgXXUh;Apmem d?hESXI.i;TrJgkiF-oKbXCAA -botrngFCHAUQkn$\n",
      "\n",
      "pn$w-gHoi?wtd!\n",
      "LLULIfSK'bAw :M.ZtOptXEQcL?hfaofqbPd?OnonQQJMap$aypupIBYGUsZaI'ottllo..k$W$Akp?yl?ajKlzY!lx&QQLW? t,bXFkyhl-dmVsHeckhRl,jSClgjuk:3Iv\n",
      "?OqlrV;!Plxfzgy;;\n",
      "'mRjuBQ&xk!$\n",
      "h\n",
      "SiruDJgKuDny,S$ERf.?GSV-ivvKcOvi-nQGX&q-YQbm dEM?px;Akr-IESq--wIWId\n",
      "RFgXTpDUgM:CK$I!uo'IBT -\n",
      "j?wfy fFr.&fiqtRS.ZttxGh' a!ogrn$zoZqbocL&yIffBDWNUboscuQqo.Fls,?,M?eZxHx?p?EV.mJiHqHnxT  bQpa;P fawiF$-QbWv&f:CVDCBfano,b?$Esev.?\n"
     ]
    }
   ],
   "source": [
    "print(decode(m.generate(idx=torch.zeros((1, 1), dtype=torch.long), max_new_tokens=500)[0].tolist()))"
   ]
  },
  {
   "cell_type": "markdown",
   "metadata": {},
   "source": [
    "# Self Attention"
   ]
  },
  {
   "cell_type": "code",
   "execution_count": 17,
   "metadata": {},
   "outputs": [
    {
     "data": {
      "text/plain": [
       "tensor([[1.0000, 0.0000, 0.0000, 0.0000, 0.0000, 0.0000, 0.0000, 0.0000],\n",
       "        [0.5000, 0.5000, 0.0000, 0.0000, 0.0000, 0.0000, 0.0000, 0.0000],\n",
       "        [0.3333, 0.3333, 0.3333, 0.0000, 0.0000, 0.0000, 0.0000, 0.0000],\n",
       "        [0.2500, 0.2500, 0.2500, 0.2500, 0.0000, 0.0000, 0.0000, 0.0000],\n",
       "        [0.2000, 0.2000, 0.2000, 0.2000, 0.2000, 0.0000, 0.0000, 0.0000],\n",
       "        [0.1667, 0.1667, 0.1667, 0.1667, 0.1667, 0.1667, 0.0000, 0.0000],\n",
       "        [0.1429, 0.1429, 0.1429, 0.1429, 0.1429, 0.1429, 0.1429, 0.0000],\n",
       "        [0.1250, 0.1250, 0.1250, 0.1250, 0.1250, 0.1250, 0.1250, 0.1250]])"
      ]
     },
     "execution_count": 17,
     "metadata": {},
     "output_type": "execute_result"
    }
   ],
   "source": [
    "tril = torch.tril(torch.ones((8, 8)))\n",
    "wei = torch.zeros((8, 8))\n",
    "wei = wei.masked_fill(tril==0, float('-inf'))\n",
    "wei = F.softmax(wei, dim=-1) # exponentiate and divide by sum\n",
    "wei"
   ]
  },
  {
   "cell_type": "code",
   "execution_count": 18,
   "metadata": {},
   "outputs": [
    {
     "name": "stdout",
     "output_type": "stream",
     "text": [
      "tensor([[ 0.3055,  1.3811],\n",
      "        [ 0.3784, -0.5543],\n",
      "        [-0.8759,  0.0246],\n",
      "        [-0.2748, -0.1904],\n",
      "        [-0.7005, -0.7848],\n",
      "        [ 0.2045,  1.3828],\n",
      "        [-1.8769, -2.3060],\n",
      "        [-0.5329,  0.0075]])\n"
     ]
    },
    {
     "data": {
      "text/plain": [
       "tensor([[ 0.3055,  1.3811],\n",
       "        [ 0.3419,  0.4134],\n",
       "        [-0.0640,  0.2838],\n",
       "        [-0.1167,  0.1653],\n",
       "        [-0.2335, -0.0247],\n",
       "        [-0.1605,  0.2098],\n",
       "        [-0.4057, -0.1496],\n",
       "        [-0.4216, -0.1299]])"
      ]
     },
     "execution_count": 18,
     "metadata": {},
     "output_type": "execute_result"
    }
   ],
   "source": [
    "x = torch.randn((8, 2))\n",
    "print(x)\n",
    "xbow = wei@x\n",
    "xbow"
   ]
  },
  {
   "cell_type": "markdown",
   "metadata": {},
   "source": [
    "- Every row in xbow is average of itself and all previous rows.\n",
    "- You can do weighted aggregation of tokens from past using matrix multiplication of lower triangular fashion.\n",
    "- The elements in the lower triangular part of wei matrix tells how much part of token is taken while aggregation."
   ]
  },
  {
   "cell_type": "code",
   "execution_count": null,
   "metadata": {},
   "outputs": [
    {
     "name": "stdout",
     "output_type": "stream",
     "text": [
      "tensor([[-1.7629, -1.3011,  0.5652,  2.1616, -1.0674,  1.9632,  1.0765, -0.4530],\n",
      "        [-3.3334, -1.6556,  0.1040,  3.3782, -2.1825,  1.0415, -0.0557,  0.2927],\n",
      "        [-1.0226, -1.2606,  0.0762, -0.3813, -0.9843, -1.4303,  0.0749, -0.9547],\n",
      "        [ 0.7836, -0.8014, -0.3368, -0.8496, -0.5602, -1.1701, -1.2927, -1.0260],\n",
      "        [-1.2566,  0.0187, -0.7880, -1.3204,  2.0363,  0.8638,  0.3719,  0.9258],\n",
      "        [-0.3126,  2.4152, -0.1106, -0.9931,  3.3449, -2.5229,  1.4187,  1.2196],\n",
      "        [ 1.0876,  1.9652, -0.2621, -0.3158,  0.6091,  1.2616, -0.5484,  0.8048],\n",
      "        [-1.8044, -0.4126, -0.8306,  0.5898, -0.7987, -0.5856,  0.6433,  0.6303]],\n",
      "       grad_fn=<SelectBackward0>)\n",
      "tensor([[-0.4407, -0.3253,  0.1413,  0.5404, -0.2668,  0.4908,  0.2691, -0.1132],\n",
      "        [-0.8334, -0.4139,  0.0260,  0.8446, -0.5456,  0.2604, -0.0139,  0.0732],\n",
      "        [-0.2557, -0.3152,  0.0191, -0.0953, -0.2461, -0.3576,  0.0187, -0.2387],\n",
      "        [ 0.1959, -0.2004, -0.0842, -0.2124, -0.1401, -0.2925, -0.3232, -0.2565],\n",
      "        [-0.3142,  0.0047, -0.1970, -0.3301,  0.5091,  0.2160,  0.0930,  0.2314],\n",
      "        [-0.0782,  0.6038, -0.0276, -0.2483,  0.8362, -0.6307,  0.3547,  0.3049],\n",
      "        [ 0.2719,  0.4913, -0.0655, -0.0789,  0.1523,  0.3154, -0.1371,  0.2012],\n",
      "        [-0.4511, -0.1031, -0.2077,  0.1475, -0.1997, -0.1464,  0.1608,  0.1576]],\n",
      "       grad_fn=<SelectBackward0>)\n"
     ]
    },
    {
     "data": {
      "text/plain": [
       "torch.Size([4, 8, 16])"
      ]
     },
     "execution_count": 44,
     "metadata": {},
     "output_type": "execute_result"
    }
   ],
   "source": [
    "torch.manual_seed(1337)\n",
    "B,T,C = 4,8,32 # batch, time, channels\n",
    "x = torch.randn(B, T, C)\n",
    "\n",
    "# single Head of self attention\n",
    "head_size = 16\n",
    "key = nn.Linear(C, head_size, bias=False)   # (C, 16)\n",
    "query = nn.Linear(C, head_size, bias=False) # (C, 16)\n",
    "value = nn.Linear(C, head_size, bias=False) # (C, 16)\n",
    "\n",
    "k = key(x)   # (B, T, 16)\n",
    "q = query(x) # (B, T, 16)\n",
    "v = value(x) # (B, T, 16)\n",
    "\n",
    "\n",
    "# following is the dot product between query and key vectors of each token\n",
    "# dot product gives the similarity between query and key\n",
    "wei = q @ k.transpose(-2, -1)  # (B, T, 16) @ (B, 16, T) ---> (B, T, T)\n",
    "\n",
    "wei = wei * head_size**(-0.5) # scaling\n",
    "\n",
    "tril = torch.tril(torch.ones(T, T))\n",
    "# wei = torch.zeros((T, T))\n",
    "wei = wei.masked_fill(tril == 0, float('-inf'))\n",
    "\n",
    "wei = F.softmax(wei, dim=-1) # (B, T, T)\n",
    "# out = wei @ x # (B, T, C)\n",
    "out = wei @ v # (B, T, T) @ (B, T, 16) ---> (B, T, 16)\n",
    "out.shape"
   ]
  },
  {
   "cell_type": "markdown",
   "metadata": {},
   "source": [
    "- Query: \"What I'm looking for\"\n",
    "- Key: \"What I can provide\"\n",
    "- Value: \"If you're interested in me, here's what I will communicate to you\"\n",
    "- Q @ K.T: Attention Scores\n",
    "    - Provides the similarity between the Q and K vectors. This is done by doing the dot product of Q and K matrices. Dot product provides the similarity between two vectors.\n",
    "    - Transpose is done to match the dimensions of the metrices so that they can be multiplied.\n",
    "    - Output is a scaler number specifying the similarity or alignment between the tokens. When two vectors (like the query and key vectors) are aligned, their dot product is high, indicating a strong similarity. If they’re orthogonal or pointing in different directions, the dot product is low or zero, indicating little to no similarity.\n",
    "- Masking: Masking is done so that a token only gets to look itself and previous tokens only, not the future tokens. In general, it controls what each token is allowed to attend to.\n",
    "- Softmax: Converts the numbers to probabilities.\n",
    "- out = wei @ V: Context Aware Tokens.\n",
    "    - Each self attention head captures different aspects of the input. For example, one head might focus on syntactic relationships, while another might capture semantic relationships. That's why we've a separate V (value) matrix instead of applying operations on original X matrix. It allows each head to learn varied relationships in data.\n",
    "    - Originally each token's embeddings in X contain an isolated piece of information, only about itself.\n",
    "    - On multiplying the wei matrix with V (which is derived from X), each token's representation in out matrix contains mix of informations from other relevant tokens.\n",
    "    - It's weighted combination of wei and V matrices. Tokens that were considered highly relevant to the token in question contribute more to its new embedding, while less relevant tokens contribute less. "
   ]
  },
  {
   "attachments": {
    "image.png": {
     "image/png": "[encoded data removed]"
    }
   },
   "cell_type": "markdown",
   "metadata": {},
   "source": [
    "![image.png](attachment:image.png)"
   ]
  },
  {
   "cell_type": "markdown",
   "metadata": {},
   "source": [
    "#### Attention Notes\n",
    "\n",
    "- Attention is a **communication mechanism**. It can be seen as nodes in directed graph looking a each other and aggregating information via weighted sum from all the nodes that point to them.\n",
    "    - In our case, the graph contains 8 nodes (block_size), where each node is pointing to itself and all the previous nodes are pointing to it.\n",
    "    - But in principal attention can be applied to any arbitrary directed graph and it is just a communication mechanism between the node.\n",
    "    - In many cases all the nodes talk to each other fully (e.g. while doing sentiment analysis). In that case just delete the masking code. This means it is an **encoder** block.\n",
    "    - What we have built is a **decoder** block where the nodes don't talk to future nodes.\n",
    "- The mechanism which we've built here is **self attention**, where all the K, Q and V matrices are based on X. X is the source of K, Q and V. But in case of **cross attention** the source for K, Q and V is different. \n",
    "- Currently there's no notion of space. The nodes don't have any idea where they're positioned in the graph. That's why also need to encode them positionally.\n",
    "- Each example across batch dimension never talk to each other. There are 8 nodes/tokens in all the 4 batches. Only the nodes in a batch talk to each other.\n",
    "- \"Scaled\" attention additionally divides wei by 1/sqrt(head_size). This makes it so when input Q, K are unit variance, `wei` will be unit variance too and Softmax will stay diffuse and not saturate too much. *Illustrated Below.*\n",
    "    - If `wei` takes very high positive or negative numbers, then applying softmax will make it similar to one-hot encoding. Softmax will sharpen towards whatever number is highest. It will be way too peaky and nodes will aggregate information from a single node. This is undesirable, especially at initialization. Hence scaling is used to control the variance at initialization.\n"
   ]
  },
  {
   "cell_type": "code",
   "execution_count": null,
   "metadata": {},
   "outputs": [
    {
     "name": "stdout",
     "output_type": "stream",
     "text": [
      "tensor(0.0950)\n",
      "tensor([0.1925, 0.1426, 0.2351, 0.1426, 0.2872])\n",
      "tensor(950.)\n",
      "tensor([4.2484e-18, 3.9754e-31, 2.0612e-09, 3.9754e-31, 1.0000e+00])\n"
     ]
    }
   ],
   "source": [
    "zz= torch.tensor([0.1, -0.2, 0.3, -0.2, 0.5]) # values very close to zero\n",
    "print(zz.var())\n",
    "print(torch.softmax(zz, dim=-1))\n",
    "\n",
    "yy= torch.tensor([0.1, -0.2, 0.3, -0.2, 0.5])*100 # high values\n",
    "print(yy.var()) # very high variance\n",
    "print(torch.softmax(yy, dim=-1)) # output is like one-hot encoding. Peaky."
   ]
  },
  {
   "cell_type": "markdown",
   "metadata": {},
   "source": [
    "### Multi-Head Attention\n",
    "\n",
    "- Complete input is processed by multiple independent attention heads. Each head performs self-attention over the input but operates in a subspace of the total embedding dimension i.e. reduced dimensionality (n_embd//4).\n",
    "- The outputs of these heads are then concatenated along the last dimension, effectively combining the learned representations from each head. The final output size after concatenation is same as when there's only single head.\n",
    "- The split in `n_embd` forces each head to focus on a smaller, specialized subspace, leading to richer and more diverse representations. Single-head attention, in contrast, tries to do everything in one step and lacks the ability to represent this diversity.\n",
    "- Imagine you’re analyzing an image:\n",
    "    - Single Attention Head: Processes the entire image in a single pass and captures all relationships but might dilute fine-grained details.\n",
    "    - Multi-Head Attention: Each head looks at the image but focuses on different patterns: edges, colors, shapes, etc. When combined, you get a more complete understanding of the image."
   ]
  },
  {
   "cell_type": "markdown",
   "metadata": {},
   "source": [
    "#### Feed Forward\n",
    "\n",
    "- After multi head attention, the input is passed through linear transformation and non-linearity.\n",
    "- Self-attention only combines token embeddings in a linear way. This limits the model's ability to detect complex patterns, like hierarchical relationships or fine-grained distinctions.\n",
    "- The non-linear ReLU activation allows the model to learn interactions between features that wouldn't be captured linearly.\n",
    "- The feed-forward layer ensures that after self-attention:\n",
    "    - Each token's embedding is richer and more refined.\n",
    "    - The model gains more capacity to learn complex patterns.\n",
    "- This is on per token level. All the tokens do this independently. So, self-attention is communication and once they have gatthered all the data, they need think on that data individually.\n",
    "\n",
    "**Analogy**\n",
    "\n",
    "Think of a project team where:\n",
    "- Self-Attention (Communication): Everyone shares information with each other about their roles and responsibilities.\n",
    "- FeedForward Layer (Computation): After sharing, each person processes that information individually to focus on their specific tasks.\n",
    "Without the second step, the team might lack depth in individual contributions."
   ]
  }
 ],
 "metadata": {
  "kernelspec": {
   "display_name": "zoro",
   "language": "python",
   "name": "python3"
  },
  "language_info": {
   "codemirror_mode": {
    "name": "ipython",
    "version": 3
   },
   "file_extension": ".py",
   "mimetype": "text/x-python",
   "name": "python",
   "nbconvert_exporter": "python",
   "pygments_lexer": "ipython3",
   "version": "3.10.13"
  }
 },
 "nbformat": 4,
 "nbformat_minor": 2
}
